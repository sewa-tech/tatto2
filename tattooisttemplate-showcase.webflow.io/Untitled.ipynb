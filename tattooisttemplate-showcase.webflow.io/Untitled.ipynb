{
 "cells": [
  {
   "cell_type": "code",
   "execution_count": 1,
   "metadata": {},
   "outputs": [
    {
     "name": "stdout",
     "output_type": "stream",
     "text": [
      "Error downloading video: [WinError 2] The system cannot find the file specified\n"
     ]
    }
   ],
   "source": [
    "import requests\n",
    "import subprocess\n",
    "\n",
    "def download_m3u8(url, output_file='output.mp4'):\n",
    "    try:\n",
    "        response = requests.get(url)\n",
    "        m3u8_content = response.text\n",
    "\n",
    "        # Extract the URLs of video segments from the M3U8 file\n",
    "        video_segments = [line.strip() for line in m3u8_content.split('\\n') if line and not line.startswith(\"#\")]\n",
    "\n",
    "        # Download and concatenate video segments using ffmpeg\n",
    "        subprocess.run(['ffmpeg', '-i'] + video_segments + ['-c', 'copy', output_file], check=True)\n",
    "\n",
    "        print(f\"Video downloaded successfully: {output_file}\")\n",
    "    except Exception as e:\n",
    "        print(f\"Error downloading video: {e}\")\n",
    "\n",
    "if __name__ == \"__main__\":\n",
    "    m3u8_url = \"https://originvideo.mero.school/electric%20circuit%20theory%20%28ii_i%29/Chapter-1%20Network%20Analysis%20of%20AC%20Circuit%20&%20Dependent%20Sources%7C1.%20contents%20of%20Network%20analysis%20of%20AC%20circuit%20and%20Dependent%20Sources-E3ofB/v0/prog_index.m3u8\"\n",
    "    download_m3u8(m3u8_url)\n"
   ]
  }
 ],
 "metadata": {
  "kernelspec": {
   "display_name": "Python 3",
   "language": "python",
   "name": "python3"
  },
  "language_info": {
   "codemirror_mode": {
    "name": "ipython",
    "version": 3
   },
   "file_extension": ".py",
   "mimetype": "text/x-python",
   "name": "python",
   "nbconvert_exporter": "python",
   "pygments_lexer": "ipython3",
   "version": "3.12.0"
  }
 },
 "nbformat": 4,
 "nbformat_minor": 2
}
